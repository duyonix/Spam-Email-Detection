{
  "nbformat": 4,
  "nbformat_minor": 0,
  "metadata": {
    "colab": {
      "name": "SpamEmailDetection.ipynb",
      "provenance": [],
      "collapsed_sections": []
    },
    "kernelspec": {
      "name": "python3",
      "display_name": "Python 3"
    },
    "language_info": {
      "name": "python"
    }
  },
  "cells": [
    {
      "cell_type": "markdown",
      "metadata": {
        "id": "kqB21QOgMg-G"
      },
      "source": [
        "##Importing the Dependencies"
      ]
    },
    {
      "cell_type": "code",
      "metadata": {
        "id": "rALI06-oHusw"
      },
      "source": [
        "import numpy as np\n",
        "import pandas as pd\n",
        "import matplotlib.pyplot as plt\n",
        "import seaborn as sns\n",
        "import pickle\n",
        "from sklearn.model_selection import train_test_split\n",
        "from sklearn.feature_extraction.text import CountVectorizer, TfidfVectorizer, HashingVectorizer\n",
        "from sklearn.linear_model import LogisticRegression\n",
        "from sklearn.metrics import classification_report, accuracy_score, confusion_matrix"
      ],
      "execution_count": null,
      "outputs": []
    },
    {
      "cell_type": "markdown",
      "metadata": {
        "id": "YyKe9o2ONeFv"
      },
      "source": [
        "##Data Collection & Pre-Processing"
      ]
    },
    {
      "cell_type": "code",
      "source": [
        "!wget -O data.csv https://drive.google.com/uc?id=1uzbhec5TW_OjFr4UUZkoMm0rpyvYdhZw&export=download"
      ],
      "metadata": {
        "colab": {
          "base_uri": "https://localhost:8080/"
        },
        "id": "CY_ixIZ1Q6RY",
        "outputId": "5c29d215-3901-4fc7-fa39-9b4e5225d377"
      },
      "execution_count": null,
      "outputs": [
        {
          "output_type": "stream",
          "name": "stdout",
          "text": [
            "--2022-06-28 13:31:30--  https://drive.google.com/uc?id=1uzbhec5TW_OjFr4UUZkoMm0rpyvYdhZw\n",
            "Resolving drive.google.com (drive.google.com)... 108.177.119.113, 108.177.119.139, 108.177.119.101, ...\n",
            "Connecting to drive.google.com (drive.google.com)|108.177.119.113|:443... connected.\n",
            "HTTP request sent, awaiting response... 303 See Other\n",
            "Location: https://doc-0k-4k-docs.googleusercontent.com/docs/securesc/ha0ro937gcuc7l7deffksulhg5h7mbp1/tpa2ge22ahat2q32ugbu695cd6jcsf4v/1656423075000/13966379820454708749/*/1uzbhec5TW_OjFr4UUZkoMm0rpyvYdhZw [following]\n",
            "Warning: wildcards not supported in HTTP.\n",
            "--2022-06-28 13:31:30--  https://doc-0k-4k-docs.googleusercontent.com/docs/securesc/ha0ro937gcuc7l7deffksulhg5h7mbp1/tpa2ge22ahat2q32ugbu695cd6jcsf4v/1656423075000/13966379820454708749/*/1uzbhec5TW_OjFr4UUZkoMm0rpyvYdhZw\n",
            "Resolving doc-0k-4k-docs.googleusercontent.com (doc-0k-4k-docs.googleusercontent.com)... 142.250.145.132, 2a00:1450:4013:c14::84\n",
            "Connecting to doc-0k-4k-docs.googleusercontent.com (doc-0k-4k-docs.googleusercontent.com)|142.250.145.132|:443... connected.\n",
            "HTTP request sent, awaiting response... 200 OK\n",
            "Length: 485702 (474K) [text/csv]\n",
            "Saving to: ‘data.csv’\n",
            "\n",
            "data.csv            100%[===================>] 474.32K  --.-KB/s    in 0.004s  \n",
            "\n",
            "2022-06-28 13:31:31 (114 MB/s) - ‘data.csv’ saved [485702/485702]\n",
            "\n"
          ]
        }
      ]
    },
    {
      "cell_type": "code",
      "metadata": {
        "id": "CpStHH8KNcYB",
        "colab": {
          "base_uri": "https://localhost:8080/"
        },
        "outputId": "555f02c3-d509-4466-834b-ebe1d6019e9c"
      },
      "source": [
        "# loading the data from csv file to a pandas Dataframe\n",
        "raw_mail_data = pd.read_csv('data.csv')\n",
        "print(raw_mail_data)"
      ],
      "execution_count": null,
      "outputs": [
        {
          "output_type": "stream",
          "name": "stdout",
          "text": [
            "     Category                                            Message\n",
            "0         ham  Go until jurong point, crazy.. Available only ...\n",
            "1         ham                      Ok lar... Joking wif u oni...\n",
            "2        spam  Free entry in 2 a wkly comp to win FA Cup fina...\n",
            "3         ham  U dun say so early hor... U c already then say...\n",
            "4         ham  Nah I don't think he goes to usf, he lives aro...\n",
            "...       ...                                                ...\n",
            "5567     spam  This is the 2nd time we have tried 2 contact u...\n",
            "5568      ham               Will ü b going to esplanade fr home?\n",
            "5569      ham  Pity, * was in mood for that. So...any other s...\n",
            "5570      ham  The guy did some bitching but I acted like i'd...\n",
            "5571      ham                         Rofl. Its true to its name\n",
            "\n",
            "[5572 rows x 2 columns]\n"
          ]
        }
      ]
    },
    {
      "cell_type": "code",
      "metadata": {
        "id": "yhakjIE1N011",
        "colab": {
          "base_uri": "https://localhost:8080/",
          "height": 206
        },
        "outputId": "a31cce9a-b233-42d6-a21e-8d358482e3d6"
      },
      "source": [
        "# replace the null values with a null string\n",
        "mail_data = raw_mail_data.where((pd.notnull(raw_mail_data)),'')\n",
        "\n",
        "# printing the first 5 rows of the dataframe\n",
        "mail_data.head()"
      ],
      "execution_count": null,
      "outputs": [
        {
          "output_type": "execute_result",
          "data": {
            "text/plain": [
              "  Category                                            Message\n",
              "0      ham  Go until jurong point, crazy.. Available only ...\n",
              "1      ham                      Ok lar... Joking wif u oni...\n",
              "2     spam  Free entry in 2 a wkly comp to win FA Cup fina...\n",
              "3      ham  U dun say so early hor... U c already then say...\n",
              "4      ham  Nah I don't think he goes to usf, he lives aro..."
            ],
            "text/html": [
              "\n",
              "  <div id=\"df-21d4d632-111c-47e6-aa4b-73e7cbb71e4b\">\n",
              "    <div class=\"colab-df-container\">\n",
              "      <div>\n",
              "<style scoped>\n",
              "    .dataframe tbody tr th:only-of-type {\n",
              "        vertical-align: middle;\n",
              "    }\n",
              "\n",
              "    .dataframe tbody tr th {\n",
              "        vertical-align: top;\n",
              "    }\n",
              "\n",
              "    .dataframe thead th {\n",
              "        text-align: right;\n",
              "    }\n",
              "</style>\n",
              "<table border=\"1\" class=\"dataframe\">\n",
              "  <thead>\n",
              "    <tr style=\"text-align: right;\">\n",
              "      <th></th>\n",
              "      <th>Category</th>\n",
              "      <th>Message</th>\n",
              "    </tr>\n",
              "  </thead>\n",
              "  <tbody>\n",
              "    <tr>\n",
              "      <th>0</th>\n",
              "      <td>ham</td>\n",
              "      <td>Go until jurong point, crazy.. Available only ...</td>\n",
              "    </tr>\n",
              "    <tr>\n",
              "      <th>1</th>\n",
              "      <td>ham</td>\n",
              "      <td>Ok lar... Joking wif u oni...</td>\n",
              "    </tr>\n",
              "    <tr>\n",
              "      <th>2</th>\n",
              "      <td>spam</td>\n",
              "      <td>Free entry in 2 a wkly comp to win FA Cup fina...</td>\n",
              "    </tr>\n",
              "    <tr>\n",
              "      <th>3</th>\n",
              "      <td>ham</td>\n",
              "      <td>U dun say so early hor... U c already then say...</td>\n",
              "    </tr>\n",
              "    <tr>\n",
              "      <th>4</th>\n",
              "      <td>ham</td>\n",
              "      <td>Nah I don't think he goes to usf, he lives aro...</td>\n",
              "    </tr>\n",
              "  </tbody>\n",
              "</table>\n",
              "</div>\n",
              "      <button class=\"colab-df-convert\" onclick=\"convertToInteractive('df-21d4d632-111c-47e6-aa4b-73e7cbb71e4b')\"\n",
              "              title=\"Convert this dataframe to an interactive table.\"\n",
              "              style=\"display:none;\">\n",
              "        \n",
              "  <svg xmlns=\"http://www.w3.org/2000/svg\" height=\"24px\"viewBox=\"0 0 24 24\"\n",
              "       width=\"24px\">\n",
              "    <path d=\"M0 0h24v24H0V0z\" fill=\"none\"/>\n",
              "    <path d=\"M18.56 5.44l.94 2.06.94-2.06 2.06-.94-2.06-.94-.94-2.06-.94 2.06-2.06.94zm-11 1L8.5 8.5l.94-2.06 2.06-.94-2.06-.94L8.5 2.5l-.94 2.06-2.06.94zm10 10l.94 2.06.94-2.06 2.06-.94-2.06-.94-.94-2.06-.94 2.06-2.06.94z\"/><path d=\"M17.41 7.96l-1.37-1.37c-.4-.4-.92-.59-1.43-.59-.52 0-1.04.2-1.43.59L10.3 9.45l-7.72 7.72c-.78.78-.78 2.05 0 2.83L4 21.41c.39.39.9.59 1.41.59.51 0 1.02-.2 1.41-.59l7.78-7.78 2.81-2.81c.8-.78.8-2.07 0-2.86zM5.41 20L4 18.59l7.72-7.72 1.47 1.35L5.41 20z\"/>\n",
              "  </svg>\n",
              "      </button>\n",
              "      \n",
              "  <style>\n",
              "    .colab-df-container {\n",
              "      display:flex;\n",
              "      flex-wrap:wrap;\n",
              "      gap: 12px;\n",
              "    }\n",
              "\n",
              "    .colab-df-convert {\n",
              "      background-color: #E8F0FE;\n",
              "      border: none;\n",
              "      border-radius: 50%;\n",
              "      cursor: pointer;\n",
              "      display: none;\n",
              "      fill: #1967D2;\n",
              "      height: 32px;\n",
              "      padding: 0 0 0 0;\n",
              "      width: 32px;\n",
              "    }\n",
              "\n",
              "    .colab-df-convert:hover {\n",
              "      background-color: #E2EBFA;\n",
              "      box-shadow: 0px 1px 2px rgba(60, 64, 67, 0.3), 0px 1px 3px 1px rgba(60, 64, 67, 0.15);\n",
              "      fill: #174EA6;\n",
              "    }\n",
              "\n",
              "    [theme=dark] .colab-df-convert {\n",
              "      background-color: #3B4455;\n",
              "      fill: #D2E3FC;\n",
              "    }\n",
              "\n",
              "    [theme=dark] .colab-df-convert:hover {\n",
              "      background-color: #434B5C;\n",
              "      box-shadow: 0px 1px 3px 1px rgba(0, 0, 0, 0.15);\n",
              "      filter: drop-shadow(0px 1px 2px rgba(0, 0, 0, 0.3));\n",
              "      fill: #FFFFFF;\n",
              "    }\n",
              "  </style>\n",
              "\n",
              "      <script>\n",
              "        const buttonEl =\n",
              "          document.querySelector('#df-21d4d632-111c-47e6-aa4b-73e7cbb71e4b button.colab-df-convert');\n",
              "        buttonEl.style.display =\n",
              "          google.colab.kernel.accessAllowed ? 'block' : 'none';\n",
              "\n",
              "        async function convertToInteractive(key) {\n",
              "          const element = document.querySelector('#df-21d4d632-111c-47e6-aa4b-73e7cbb71e4b');\n",
              "          const dataTable =\n",
              "            await google.colab.kernel.invokeFunction('convertToInteractive',\n",
              "                                                     [key], {});\n",
              "          if (!dataTable) return;\n",
              "\n",
              "          const docLinkHtml = 'Like what you see? Visit the ' +\n",
              "            '<a target=\"_blank\" href=https://colab.research.google.com/notebooks/data_table.ipynb>data table notebook</a>'\n",
              "            + ' to learn more about interactive tables.';\n",
              "          element.innerHTML = '';\n",
              "          dataTable['output_type'] = 'display_data';\n",
              "          await google.colab.output.renderOutput(dataTable, element);\n",
              "          const docLink = document.createElement('div');\n",
              "          docLink.innerHTML = docLinkHtml;\n",
              "          element.appendChild(docLink);\n",
              "        }\n",
              "      </script>\n",
              "    </div>\n",
              "  </div>\n",
              "  "
            ]
          },
          "metadata": {},
          "execution_count": 4
        }
      ]
    },
    {
      "cell_type": "code",
      "metadata": {
        "colab": {
          "base_uri": "https://localhost:8080/"
        },
        "id": "IbK82N2gOdar",
        "outputId": "e4800c00-1418-4487-9f90-26e9818b85c8"
      },
      "source": [
        "# checking the number of rows and columns in the dataframe\n",
        "mail_data.shape"
      ],
      "execution_count": null,
      "outputs": [
        {
          "output_type": "execute_result",
          "data": {
            "text/plain": [
              "(5572, 2)"
            ]
          },
          "metadata": {},
          "execution_count": 5
        }
      ]
    },
    {
      "cell_type": "markdown",
      "metadata": {
        "id": "vhR4U3ATPBdk"
      },
      "source": [
        "##Label Encoding"
      ]
    },
    {
      "cell_type": "code",
      "metadata": {
        "id": "9EW7QSgeOt4p"
      },
      "source": [
        "# label spam mail as 0;  ham mail as 1;\n",
        "\n",
        "mail_data.loc[mail_data['Category'] == 'spam', 'Category',] = 0\n",
        "mail_data.loc[mail_data['Category'] == 'ham', 'Category',] = 1"
      ],
      "execution_count": null,
      "outputs": []
    },
    {
      "cell_type": "code",
      "metadata": {
        "id": "t8Rt-FaNPtPE"
      },
      "source": [
        "# separating the data as texts and label\n",
        "\n",
        "X = mail_data['Message']\n",
        "Y = mail_data['Category']"
      ],
      "execution_count": null,
      "outputs": []
    },
    {
      "cell_type": "code",
      "metadata": {
        "colab": {
          "base_uri": "https://localhost:8080/"
        },
        "id": "QnQeUBGtQPP7",
        "outputId": "df32a2b5-a704-41f1-db1c-3113840f1a15"
      },
      "source": [
        "print(X)"
      ],
      "execution_count": null,
      "outputs": [
        {
          "output_type": "stream",
          "name": "stdout",
          "text": [
            "0       Go until jurong point, crazy.. Available only ...\n",
            "1                           Ok lar... Joking wif u oni...\n",
            "2       Free entry in 2 a wkly comp to win FA Cup fina...\n",
            "3       U dun say so early hor... U c already then say...\n",
            "4       Nah I don't think he goes to usf, he lives aro...\n",
            "                              ...                        \n",
            "5567    This is the 2nd time we have tried 2 contact u...\n",
            "5568                 Will ü b going to esplanade fr home?\n",
            "5569    Pity, * was in mood for that. So...any other s...\n",
            "5570    The guy did some bitching but I acted like i'd...\n",
            "5571                           Rofl. Its true to its name\n",
            "Name: Message, Length: 5572, dtype: object\n"
          ]
        }
      ]
    },
    {
      "cell_type": "code",
      "metadata": {
        "colab": {
          "base_uri": "https://localhost:8080/"
        },
        "id": "cuWDNy5KQQjY",
        "outputId": "ba864ef4-c73b-40b3-e8b4-655cacb17cf9"
      },
      "source": [
        "print(Y)"
      ],
      "execution_count": null,
      "outputs": [
        {
          "output_type": "stream",
          "name": "stdout",
          "text": [
            "0       1\n",
            "1       1\n",
            "2       0\n",
            "3       1\n",
            "4       1\n",
            "       ..\n",
            "5567    0\n",
            "5568    1\n",
            "5569    1\n",
            "5570    1\n",
            "5571    1\n",
            "Name: Category, Length: 5572, dtype: object\n"
          ]
        }
      ]
    },
    {
      "cell_type": "markdown",
      "metadata": {
        "id": "jvHyqdH8QZPH"
      },
      "source": [
        "##Splitting the data into training data & test data"
      ]
    },
    {
      "cell_type": "code",
      "metadata": {
        "id": "RO2GmbSNQSQH"
      },
      "source": [
        "X_train, X_test, Y_train, Y_test = train_test_split(X, Y, test_size=0.2, random_state=3)"
      ],
      "execution_count": null,
      "outputs": []
    },
    {
      "cell_type": "code",
      "metadata": {
        "colab": {
          "base_uri": "https://localhost:8080/"
        },
        "id": "tS2c7A4NRa46",
        "outputId": "36740f3b-a986-4b18-c4b4-9dbbeda79d71"
      },
      "source": [
        "print(X.shape)\n",
        "print(X_train.shape)\n",
        "print(X_test.shape)"
      ],
      "execution_count": null,
      "outputs": [
        {
          "output_type": "stream",
          "name": "stdout",
          "text": [
            "(5572,)\n",
            "(4457,)\n",
            "(1115,)\n"
          ]
        }
      ]
    },
    {
      "cell_type": "markdown",
      "metadata": {
        "id": "wYQpiACGSBYM"
      },
      "source": [
        "##Feature Extraction"
      ]
    },
    {
      "cell_type": "markdown",
      "source": [
        "Trước hết ta cần dùng feature extraction chuyển nội dung message dạng text sang dạng number để model có thể train được. Có nhiều phương pháp để thực hiện feature extraction như Bag of words, TF-IDF, Hashing ...\n",
        "\n",
        "Ở đây, mình đã liệt kê cả 3 phương pháp là CountVectorizer, TfidfVectorizer và HashingVectorizer để thử nghiệm như sau"
      ],
      "metadata": {
        "id": "v2U9arLvq2vh"
      }
    },
    {
      "cell_type": "code",
      "metadata": {
        "id": "nLs847nSRibm"
      },
      "source": [
        "# transform the text data to feature vectors that can be used as input to the Logistic regression\n",
        "\n",
        "# CountVectorizer\n",
        "# feature_extraction = CountVectorizer(ngram_range = (1,2), stop_words='english')\n",
        "\n",
        "# TfidfVectorizer\n",
        "# feature_extraction = TfidfVectorizer(min_df = 1, stop_words='english'. lowercase='True')\n",
        "\n",
        "# HasingVectorizer\n",
        "feature_extraction = HashingVectorizer(n_features=200000,norm=None, stop_words='english', lowercase='True')\n",
        "\n",
        "X_train_features = feature_extraction.fit_transform(X_train)\n",
        "X_test_features = feature_extraction.transform(X_test)\n",
        "\n",
        "# convert Y_train and Y_test values as integers\n",
        "\n",
        "Y_train = Y_train.astype('int')\n",
        "Y_test = Y_test.astype('int')"
      ],
      "execution_count": null,
      "outputs": []
    },
    {
      "cell_type": "code",
      "metadata": {
        "id": "dBMAcw9RUkUY",
        "colab": {
          "base_uri": "https://localhost:8080/"
        },
        "outputId": "3f6fb45e-fb95-4db5-ebef-171d3942b282"
      },
      "source": [
        "print(X_train)"
      ],
      "execution_count": null,
      "outputs": [
        {
          "output_type": "stream",
          "name": "stdout",
          "text": [
            "3075                  Don know. I did't msg him recently.\n",
            "1787    Do you know why god created gap between your f...\n",
            "1614                         Thnx dude. u guys out 2nite?\n",
            "4304                                      Yup i'm free...\n",
            "3266    44 7732584351, Do you want a New Nokia 3510i c...\n",
            "                              ...                        \n",
            "789     5 Free Top Polyphonic Tones call 087018728737,...\n",
            "968     What do u want when i come back?.a beautiful n...\n",
            "1667    Guess who spent all last night phasing in and ...\n",
            "3321    Eh sorry leh... I din c ur msg. Not sad alread...\n",
            "1688    Free Top ringtone -sub to weekly ringtone-get ...\n",
            "Name: Message, Length: 4457, dtype: object\n"
          ]
        }
      ]
    },
    {
      "cell_type": "code",
      "metadata": {
        "id": "1NFuGogZUpt0",
        "colab": {
          "base_uri": "https://localhost:8080/"
        },
        "outputId": "1bd5a7c1-b220-4844-ee2b-875067811375"
      },
      "source": [
        "print(X_train_features)"
      ],
      "execution_count": null,
      "outputs": [
        {
          "output_type": "stream",
          "name": "stdout",
          "text": [
            "  (0, 12093)\t-1.0\n",
            "  (0, 20661)\t-1.0\n",
            "  (0, 74451)\t1.0\n",
            "  (0, 82897)\t-1.0\n",
            "  (0, 131446)\t1.0\n",
            "  (1, 7442)\t1.0\n",
            "  (1, 13784)\t1.0\n",
            "  (1, 17620)\t1.0\n",
            "  (1, 56201)\t-1.0\n",
            "  (1, 59403)\t-1.0\n",
            "  (1, 59422)\t1.0\n",
            "  (1, 70722)\t-1.0\n",
            "  (1, 82897)\t-1.0\n",
            "  (1, 92061)\t-1.0\n",
            "  (1, 109279)\t1.0\n",
            "  (1, 166253)\t1.0\n",
            "  (1, 187701)\t1.0\n",
            "  (2, 41965)\t-1.0\n",
            "  (2, 115725)\t-1.0\n",
            "  (2, 120587)\t-1.0\n",
            "  (2, 136579)\t1.0\n",
            "  (3, 37820)\t1.0\n",
            "  (3, 43438)\t1.0\n",
            "  (4, 8903)\t1.0\n",
            "  (4, 13984)\t1.0\n",
            "  :\t:\n",
            "  (4454, 168311)\t1.0\n",
            "  (4454, 180827)\t1.0\n",
            "  (4455, 1246)\t1.0\n",
            "  (4455, 16064)\t-1.0\n",
            "  (4455, 26357)\t-1.0\n",
            "  (4455, 33647)\t1.0\n",
            "  (4455, 53500)\t-1.0\n",
            "  (4455, 59197)\t-1.0\n",
            "  (4455, 74451)\t1.0\n",
            "  (4455, 130333)\t1.0\n",
            "  (4455, 148376)\t1.0\n",
            "  (4455, 180348)\t-1.0\n",
            "  (4455, 182221)\t1.0\n",
            "  (4456, 10225)\t1.0\n",
            "  (4456, 13766)\t1.0\n",
            "  (4456, 19308)\t2.0\n",
            "  (4456, 22940)\t-1.0\n",
            "  (4456, 43438)\t2.0\n",
            "  (4456, 52723)\t-1.0\n",
            "  (4456, 63301)\t1.0\n",
            "  (4456, 74647)\t1.0\n",
            "  (4456, 76219)\t1.0\n",
            "  (4456, 105690)\t1.0\n",
            "  (4456, 121644)\t1.0\n",
            "  (4456, 186395)\t2.0\n"
          ]
        }
      ]
    },
    {
      "cell_type": "markdown",
      "metadata": {
        "id": "q86FvELbU_SV"
      },
      "source": [
        "##Training the Model"
      ]
    },
    {
      "cell_type": "markdown",
      "metadata": {
        "id": "hV6BAIZQVBbo"
      },
      "source": [
        "###Logistic Regression"
      ]
    },
    {
      "cell_type": "markdown",
      "source": [
        "Logistic regression là một phương pháp phân tích thống kê được sử dụng để dự đoán giá trị dữ liệu dựa trên các quan sát trước đó của tập dữ liệu.\n",
        "Mục đích là ước tính xác suất của các sự kiện, bao gồm xác định mối quan hệ giữa các tính năng từ đó đự đoán xác suất của các kết quả\n",
        "\n",
        "\n",
        "Lý do dùng Logistic Regression:\n",
        "Vì nó là cách tốt nhất để xử lý Binary Classification (vì data ta chia làm 2 class chỉ gồm spam và ham email)\n"
      ],
      "metadata": {
        "id": "EPK265BDt6pD"
      }
    },
    {
      "cell_type": "code",
      "metadata": {
        "id": "1JeAOwzpUv0V"
      },
      "source": [
        "model = LogisticRegression(warm_start=True)"
      ],
      "execution_count": null,
      "outputs": []
    },
    {
      "cell_type": "code",
      "metadata": {
        "colab": {
          "base_uri": "https://localhost:8080/"
        },
        "id": "gWGRHWAPVI_z",
        "outputId": "232d1043-4885-4ba0-e8da-20255d4a513f"
      },
      "source": [
        "# training the Logistic Regression model with the training data\n",
        "model.fit(X_train_features, Y_train)"
      ],
      "execution_count": null,
      "outputs": [
        {
          "output_type": "execute_result",
          "data": {
            "text/plain": [
              "LogisticRegression(warm_start=True)"
            ]
          },
          "metadata": {},
          "execution_count": 16
        }
      ]
    },
    {
      "cell_type": "code",
      "source": [
        "# save the model to disk\n",
        "pickle.dump(model, open('logistic_regression.pkl', 'wb'))\n",
        "pickle.dump(feature_extraction, open('feature_extraction.pkl', 'wb'))"
      ],
      "metadata": {
        "id": "xhrOtPmsSJql"
      },
      "execution_count": null,
      "outputs": []
    },
    {
      "cell_type": "markdown",
      "metadata": {
        "id": "wZ01fa8dVeL5"
      },
      "source": [
        "##Evaluating the trained model"
      ]
    },
    {
      "cell_type": "markdown",
      "source": [
        "###Accuracy Score"
      ],
      "metadata": {
        "id": "AtuZHDAnMC_e"
      }
    },
    {
      "cell_type": "markdown",
      "source": [
        "Cách đơn giản và hay được sử dụng nhất là accuracy (độ chính xác). Cách đánh giá này đơn giản tính tỉ lệ giữa số điểm được dự đoán đúng và tổng số điểm trong tập dữ liệu kiểm thử."
      ],
      "metadata": {
        "id": "XgSLXz14AFEO"
      }
    },
    {
      "cell_type": "code",
      "source": [
        "print(\"ACCURACY SCORE\")\n",
        "print(\"Training Set:\", accuracy_score(y_true=Y_train, y_pred=model.predict(X_train_features)) * 100, \"%\")\n",
        "print(\"Testing Set:\", accuracy_score(y_true=Y_test, y_pred=model.predict(X_test_features)) * 100, \"%\")"
      ],
      "metadata": {
        "colab": {
          "base_uri": "https://localhost:8080/"
        },
        "id": "4kiNSgbENqPE",
        "outputId": "e99a3d63-614f-4f2b-fdcd-4c5d614aeb08"
      },
      "execution_count": null,
      "outputs": [
        {
          "output_type": "stream",
          "name": "stdout",
          "text": [
            "ACCURACY SCORE\n",
            "Training Set: 99.46152120260264 %\n",
            "Testing Set: 97.9372197309417 %\n"
          ]
        }
      ]
    },
    {
      "cell_type": "markdown",
      "source": [
        "###Confusion Matrix"
      ],
      "metadata": {
        "id": "goD3aw6RO-pu"
      }
    },
    {
      "cell_type": "markdown",
      "source": [
        "Confusion Matrix: Là một phương pháp đánh giá kết quả của những bài toán phân loại với việc xem xét cả những chỉ số về độ chính xác và độ bao quát của các dự đoán cho từng lớp. Một confusion matrix gồm 4 chỉ số sau đối với mỗi lớp phân loại:\n",
        "- TP: số lượng dự đoán chính xác\n",
        "- TN: số lượng dự đoán chính xác một cách gián tiếp\n",
        "- FP: số lượng các dự đoán sai lệch\n",
        "- FN: số lượng các dự đoán sai lệch một cách gián tiếp\n",
        "\n",
        "Bảng dự đoán sẽ như thế này:\n",
        "\n",
        "TP | FP\n",
        "\n",
        "._________.\n",
        "\n",
        "FN | TN"
      ],
      "metadata": {
        "id": "qG44gaDBC0m_"
      }
    },
    {
      "cell_type": "code",
      "source": [
        "matrix = confusion_matrix(y_true=Y_test, y_pred=model.predict(X_test_features))\n",
        "\n",
        "plt.figure(figsize=(8,6))\n",
        "plt.xlabel(\"PREDICTED\")\n",
        "plt.ylabel(\"TRUTH\")\n",
        "sns.heatmap(matrix, annot=True)\n",
        "plt.show()"
      ],
      "metadata": {
        "colab": {
          "base_uri": "https://localhost:8080/",
          "height": 374
        },
        "id": "FPWNUSc-PXaV",
        "outputId": "7fc42906-2d1a-493d-c05a-1c2ff888dfd6"
      },
      "execution_count": null,
      "outputs": [
        {
          "output_type": "display_data",
          "data": {
            "text/plain": [
              "<Figure size 576x432 with 2 Axes>"
            ],
            "image/png": "[encoded data removed]"
          },
          "metadata": {
            "needs_background": "light"
          }
        }
      ]
    },
    {
      "cell_type": "markdown",
      "source": [
        "###Classification Report"
      ],
      "metadata": {
        "id": "z_vMNA1AN401"
      }
    },
    {
      "cell_type": "markdown",
      "source": [
        "Từ các chỉ số trên của Confusion Matrix, ta có thể đánh giá dựa trên nhiều yếu tố khác nhau như là:\n",
        "- Precision: tỉ lệ số điểm true positive trong số những điểm được phân loại là positive\n",
        "\n",
        "Precision = TP / (TP + FP)\n",
        "- Recall: tỉ lệ số điểm true positive trong số những điểm thực sự là positive\n",
        "\n",
        "Recall = TP / (TP + FN)\n",
        "- F1-score: harmonic mean của precision và recall \n",
        "\n",
        "F1-score = (2 * precision * recall) / (precision + recall)"
      ],
      "metadata": {
        "id": "h1GIkOqNBWCt"
      }
    },
    {
      "cell_type": "code",
      "source": [
        "print(\"CLASSIFICATION REPORT\")\n",
        "print(classification_report(y_true=Y_test, y_pred=model.predict(X_test_features)))"
      ],
      "metadata": {
        "colab": {
          "base_uri": "https://localhost:8080/"
        },
        "id": "diXma5VwN9J2",
        "outputId": "5c69fee8-ab84-4ecb-c5a0-ef160fa246d8"
      },
      "execution_count": null,
      "outputs": [
        {
          "output_type": "stream",
          "name": "stdout",
          "text": [
            "CLASSIFICATION REPORT\n",
            "              precision    recall  f1-score   support\n",
            "\n",
            "           0       1.00      0.85      0.92       155\n",
            "           1       0.98      1.00      0.99       960\n",
            "\n",
            "    accuracy                           0.98      1115\n",
            "   macro avg       0.99      0.93      0.95      1115\n",
            "weighted avg       0.98      0.98      0.98      1115\n",
            "\n"
          ]
        }
      ]
    },
    {
      "cell_type": "markdown",
      "metadata": {
        "id": "bXdOKxYAXaHC"
      },
      "source": [
        "##Building a Predictive System"
      ]
    },
    {
      "cell_type": "code",
      "metadata": {
        "colab": {
          "base_uri": "https://localhost:8080/"
        },
        "id": "h60z1__mWql6",
        "outputId": "1bdcc1a9-3f4b-4359-8e8f-8d11312db75d"
      },
      "source": [
        "input_mail = [\n",
        "              \"Bring everyone to the same page  - \\nIt's more productive work together\",\n",
        "              \"MongoDB Cheat Sheet!  - \\nHi Duy, MongoDB is really complex. There are tons of commands available, but you really only need to know a few. That is why I created this cheat sheet. I wanted to sum up all the important\",\n",
        "              \"[VNG] Thư cảm ơn người tham dự VNG x Thách Thức Tour  - \\nThân chào bạn, Lời đầu tiên, BTC gửi đến bạn lời cảm ơn chân thành vì đã nhiệt tình tham gia chương trình VNG x Thách Thức Tour diễn ra vào ngày 31/05 vừa rồ\",\n",
        "              \"Free entry in 2 a wkly comp to win FA Cup final tkts 21st May 2005. Text FA to 87121 to receive entry question(std txt rate)T&C's apply 08452810075over18's\"\n",
        "              ]\n",
        "\n",
        "# convert text to feature vectors\n",
        "input_data_features = feature_extraction.transform(input_mail)\n",
        "\n",
        "# making prediction\n",
        "\n",
        "prediction = model.predict(input_data_features)\n",
        "print(prediction)\n",
        "\n",
        "for i in range(len(prediction)):\n",
        "    if prediction[i] == 1:\n",
        "        print(f\"Mail {i + 1} is ham\")\n",
        "    else:\n",
        "        print(f\"Mail {i + 1} is spam\")"
      ],
      "execution_count": null,
      "outputs": [
        {
          "output_type": "stream",
          "name": "stdout",
          "text": [
            "[1 1 1 0]\n",
            "Mail 1 is ham\n",
            "Mail 2 is ham\n",
            "Mail 3 is ham\n",
            "Mail 4 is spam\n"
          ]
        }
      ]
    }
  ]
}